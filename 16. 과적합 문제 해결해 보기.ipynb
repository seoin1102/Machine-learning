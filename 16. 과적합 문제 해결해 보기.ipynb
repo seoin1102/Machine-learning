{
 "cells": [
  {
   "cell_type": "code",
   "execution_count": 1,
   "metadata": {},
   "outputs": [],
   "source": [
    "from sklearn.linear_model import Lasso\n",
    "from sklearn.model_selection import train_test_split\n",
    "from sklearn.metrics import mean_squared_error\n",
    "from sklearn.preprocessing import PolynomialFeatures\n",
    "\n",
    "from math import sqrt\n",
    "\n",
    "import numpy as np\n",
    "import pandas as pd"
   ]
  },
  {
   "cell_type": "code",
   "execution_count": 2,
   "metadata": {},
   "outputs": [],
   "source": [
    "ADMISSION_FILE_PATH = 'Downloads/admission_data.csv'\n",
    "admission_df = pd.read_csv(ADMISSION_FILE_PATH).drop('Serial No.',axis=1)\n",
    "X = admission_df.drop(['Chance of Admit '], axis=1)\n",
    "polynomial_transformer = PolynomialFeatures(6)\n",
    "polynomial_features = polynomial_transformer.fit_transform(X.values)\n",
    "features = polynomial_transformer.get_feature_names(X.columns)"
   ]
  },
  {
   "cell_type": "code",
   "execution_count": 3,
   "metadata": {},
   "outputs": [],
   "source": [
    "X = pd.DataFrame(polynomial_features, columns=features)\n",
    "y = admission_df[['Chance of Admit ']]"
   ]
  },
  {
   "cell_type": "code",
   "execution_count": 4,
   "metadata": {},
   "outputs": [],
   "source": [
    "X_train, X_test, y_train, y_test = train_test_split(X, y, test_size = 0.3, random_state = 5)"
   ]
  },
  {
   "cell_type": "code",
   "execution_count": 5,
   "metadata": {},
   "outputs": [
    {
     "data": {
      "text/plain": [
       "Lasso(alpha=0.001, normalize=True)"
      ]
     },
     "execution_count": 5,
     "metadata": {},
     "output_type": "execute_result"
    }
   ],
   "source": [
    "model = Lasso(alpha = 0.001, max_iter=1000, normalize=True)#alpha가 람다의 역할을 함, lasso는 자체적으로 feature scaling을 해줌.\n",
    "model.fit(X_train, y_train)"
   ]
  },
  {
   "cell_type": "code",
   "execution_count": 6,
   "metadata": {},
   "outputs": [],
   "source": [
    "y_train_predict = model.predict(X_train)\n",
    "y_test_predict = model.predict(X_test)"
   ]
  },
  {
   "cell_type": "code",
   "execution_count": 7,
   "metadata": {},
   "outputs": [
    {
     "name": "stdout",
     "output_type": "stream",
     "text": [
      "training set에서의 성능\n",
      "-----------------------\n",
      "0.06336620966147143\n",
      "test set에서의 성능\n",
      "-----------------------\n",
      "0.06007719092689259\n"
     ]
    }
   ],
   "source": [
    "mse = mean_squared_error(y_train, y_train_predict) \n",
    "print(\"training set에서의 성능\")\n",
    "print(\"-----------------------\")\n",
    "print(sqrt(mse))\n",
    "\n",
    "mse = mean_squared_error(y_test, y_test_predict) \n",
    "print(\"test set에서의 성능\")\n",
    "print(\"-----------------------\")\n",
    "print(sqrt(mse))"
   ]
  },
  {
   "cell_type": "code",
   "execution_count": null,
   "metadata": {},
   "outputs": [],
   "source": []
  }
 ],
 "metadata": {
  "kernelspec": {
   "display_name": "Python 3",
   "language": "python",
   "name": "python3"
  },
  "language_info": {
   "codemirror_mode": {
    "name": "ipython",
    "version": 3
   },
   "file_extension": ".py",
   "mimetype": "text/x-python",
   "name": "python",
   "nbconvert_exporter": "python",
   "pygments_lexer": "ipython3",
   "version": "3.9.0"
  }
 },
 "nbformat": 4,
 "nbformat_minor": 4
}
