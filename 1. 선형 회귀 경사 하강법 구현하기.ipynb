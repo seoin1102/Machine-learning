{
 "cells": [
  {
   "cell_type": "code",
   "execution_count": 1,
   "metadata": {},
   "outputs": [],
   "source": [
    "import numpy as np"
   ]
  },
  {
   "cell_type": "code",
   "execution_count": 2,
   "metadata": {},
   "outputs": [],
   "source": [
    "#선형 회귀 가설 함수 구현 \n",
    "#선형 회귀는 가장 적절한 가설 함수를 찾는것이 목적임.\n",
    "def prediction(theta_0, theta_1, x):\n",
    "    return theta_0 + theta_1 * x"
   ]
  },
  {
   "cell_type": "code",
   "execution_count": 3,
   "metadata": {},
   "outputs": [],
   "source": [
    "#선형 회귀 예측 오차 구현\n",
    "#오차가 작은 가설 함수를 찾아내야함.\n",
    "def prediction_difference(theta_0, theta_1, x, y):\n",
    "    return prediction(theta_0, theta_1, x) - y"
   ]
  },
  {
   "cell_type": "code",
   "execution_count": 4,
   "metadata": {},
   "outputs": [],
   "source": [
    "#선형 회귀 경사 하강법 구현\n",
    "#경사 하강법으로 최적의 theta값을 찾을 수 있음.\n",
    "#iterations만큼 경사 하강\n",
    "#alpha는 학습률\n",
    "def gradient_descent(theta_0, theta_1, x, y, iterations, alpha):\n",
    "    for _ in range(iterations):\n",
    "        error = prediction_difference(theta_0, theta_1, x, y)\n",
    "        theta_0 = theta_0 - alpha * error.mean()\n",
    "        theta_1 = theta_1 - alpha * (error * x).mean()\n",
    "    return theta_0, theta_1"
   ]
  },
  {
   "cell_type": "code",
   "execution_count": 5,
   "metadata": {},
   "outputs": [],
   "source": [
    "#입력 변수(집 크기)\n",
    "house_size = np.array([0.9, 1.4, 2, 2.1, 2.6, 3.3, 3.35, 3.9, 4.4, 4.7, 5.2, 5.75, 6.7, 6.9])"
   ]
  },
  {
   "cell_type": "code",
   "execution_count": 6,
   "metadata": {},
   "outputs": [],
   "source": [
    "#목표 변수(집 가격)\n",
    "house_price = np.array([0.3, 0.75, 0.45, 1.1, 1.45, 0.9, 1.8, 0.9, 1.5, 2.2, 1.75, 2.3, 2.49, 2.6])"
   ]
  },
  {
   "cell_type": "code",
   "execution_count": 7,
   "metadata": {},
   "outputs": [],
   "source": [
    "#theta 값을 초기화함 \n",
    "#경사하강법으로 더 나은 theta값들을 찾을것임으로 아무 수나 괜찮음.\n",
    "theta_0 = 2.5\n",
    "theta_1 = 0"
   ]
  },
  {
   "cell_type": "code",
   "execution_count": 8,
   "metadata": {},
   "outputs": [],
   "source": [
    "#학습률 0.1로 200번 경사 하강함.\n",
    "theta_0, theta_1 = gradient_descent(theta_0, theta_1, house_size, house_price, 200, 0.1)"
   ]
  },
  {
   "cell_type": "code",
   "execution_count": 9,
   "metadata": {},
   "outputs": [
    {
     "data": {
      "text/plain": [
       "(0.16821801417752186, 0.3438032402351199)"
      ]
     },
     "execution_count": 9,
     "metadata": {},
     "output_type": "execute_result"
    }
   ],
   "source": [
    "#최적의 theta 값들.\n",
    "theta_0, theta_1"
   ]
  },
  {
   "cell_type": "code",
   "execution_count": null,
   "metadata": {},
   "outputs": [],
   "source": []
  }
 ],
 "metadata": {
  "kernelspec": {
   "display_name": "Python 3",
   "language": "python",
   "name": "python3"
  },
  "language_info": {
   "codemirror_mode": {
    "name": "ipython",
    "version": 3
   },
   "file_extension": ".py",
   "mimetype": "text/x-python",
   "name": "python",
   "nbconvert_exporter": "python",
   "pygments_lexer": "ipython3",
   "version": "3.9.0"
  }
 },
 "nbformat": 4,
 "nbformat_minor": 4
}
