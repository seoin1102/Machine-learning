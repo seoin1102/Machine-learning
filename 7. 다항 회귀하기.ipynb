{
 "cells": [
  {
   "cell_type": "code",
   "execution_count": 1,
   "metadata": {},
   "outputs": [],
   "source": [
    "from sklearn.datasets import load_boston\n",
    "from sklearn.preprocessing import PolynomialFeatures #다항속성\n",
    "from sklearn.model_selection import train_test_split\n",
    "from sklearn.linear_model import LinearRegression\n",
    "from sklearn.metrics import mean_squared_error\n",
    "\n",
    "import pandas as pd"
   ]
  },
  {
   "cell_type": "code",
   "execution_count": 2,
   "metadata": {},
   "outputs": [],
   "source": [
    "boston_dataset = load_boston()"
   ]
  },
  {
   "cell_type": "code",
   "execution_count": 3,
   "metadata": {},
   "outputs": [
    {
     "data": {
      "text/plain": [
       "array([[6.3200e-03, 1.8000e+01, 2.3100e+00, ..., 1.5300e+01, 3.9690e+02,\n",
       "        4.9800e+00],\n",
       "       [2.7310e-02, 0.0000e+00, 7.0700e+00, ..., 1.7800e+01, 3.9690e+02,\n",
       "        9.1400e+00],\n",
       "       [2.7290e-02, 0.0000e+00, 7.0700e+00, ..., 1.7800e+01, 3.9283e+02,\n",
       "        4.0300e+00],\n",
       "       ...,\n",
       "       [6.0760e-02, 0.0000e+00, 1.1930e+01, ..., 2.1000e+01, 3.9690e+02,\n",
       "        5.6400e+00],\n",
       "       [1.0959e-01, 0.0000e+00, 1.1930e+01, ..., 2.1000e+01, 3.9345e+02,\n",
       "        6.4800e+00],\n",
       "       [4.7410e-02, 0.0000e+00, 1.1930e+01, ..., 2.1000e+01, 3.9690e+02,\n",
       "        7.8800e+00]])"
      ]
     },
     "execution_count": 3,
     "metadata": {},
     "output_type": "execute_result"
    }
   ],
   "source": [
    "boston_dataset.data"
   ]
  },
  {
   "cell_type": "code",
   "execution_count": 4,
   "metadata": {},
   "outputs": [
    {
     "data": {
      "text/plain": [
       "(506, 13)"
      ]
     },
     "execution_count": 4,
     "metadata": {},
     "output_type": "execute_result"
    }
   ],
   "source": [
    "boston_dataset.data.shape"
   ]
  },
  {
   "cell_type": "code",
   "execution_count": 5,
   "metadata": {},
   "outputs": [
    {
     "data": {
      "text/plain": [
       "array(['CRIM', 'ZN', 'INDUS', 'CHAS', 'NOX', 'RM', 'AGE', 'DIS', 'RAD',\n",
       "       'TAX', 'PTRATIO', 'B', 'LSTAT'], dtype='<U7')"
      ]
     },
     "execution_count": 5,
     "metadata": {},
     "output_type": "execute_result"
    }
   ],
   "source": [
    "boston_dataset.feature_names"
   ]
  },
  {
   "cell_type": "code",
   "execution_count": 6,
   "metadata": {},
   "outputs": [],
   "source": [
    "polynomial_transformer = PolynomialFeatures(2) #다항변형기 #2차함수"
   ]
  },
  {
   "cell_type": "code",
   "execution_count": 7,
   "metadata": {},
   "outputs": [],
   "source": [
    "polynomial_data = polynomial_transformer.fit_transform(boston_dataset.data)"
   ]
  },
  {
   "cell_type": "code",
   "execution_count": 8,
   "metadata": {},
   "outputs": [
    {
     "data": {
      "text/plain": [
       "array([[1.00000000e+00, 6.32000000e-03, 1.80000000e+01, ...,\n",
       "        1.57529610e+05, 1.97656200e+03, 2.48004000e+01],\n",
       "       [1.00000000e+00, 2.73100000e-02, 0.00000000e+00, ...,\n",
       "        1.57529610e+05, 3.62766600e+03, 8.35396000e+01],\n",
       "       [1.00000000e+00, 2.72900000e-02, 0.00000000e+00, ...,\n",
       "        1.54315409e+05, 1.58310490e+03, 1.62409000e+01],\n",
       "       ...,\n",
       "       [1.00000000e+00, 6.07600000e-02, 0.00000000e+00, ...,\n",
       "        1.57529610e+05, 2.23851600e+03, 3.18096000e+01],\n",
       "       [1.00000000e+00, 1.09590000e-01, 0.00000000e+00, ...,\n",
       "        1.54802902e+05, 2.54955600e+03, 4.19904000e+01],\n",
       "       [1.00000000e+00, 4.74100000e-02, 0.00000000e+00, ...,\n",
       "        1.57529610e+05, 3.12757200e+03, 6.20944000e+01]])"
      ]
     },
     "execution_count": 8,
     "metadata": {},
     "output_type": "execute_result"
    }
   ],
   "source": [
    "polynomial_data"
   ]
  },
  {
   "cell_type": "code",
   "execution_count": 9,
   "metadata": {},
   "outputs": [
    {
     "data": {
      "text/plain": [
       "(506, 105)"
      ]
     },
     "execution_count": 9,
     "metadata": {},
     "output_type": "execute_result"
    }
   ],
   "source": [
    "polynomial_data.shape"
   ]
  },
  {
   "cell_type": "code",
   "execution_count": 10,
   "metadata": {},
   "outputs": [],
   "source": [
    "polynomial_feature_names = polynomial_transformer.get_feature_names(boston_dataset.feature_names)"
   ]
  },
  {
   "cell_type": "code",
   "execution_count": 11,
   "metadata": {},
   "outputs": [
    {
     "data": {
      "text/plain": [
       "['1',\n",
       " 'CRIM',\n",
       " 'ZN',\n",
       " 'INDUS',\n",
       " 'CHAS',\n",
       " 'NOX',\n",
       " 'RM',\n",
       " 'AGE',\n",
       " 'DIS',\n",
       " 'RAD',\n",
       " 'TAX',\n",
       " 'PTRATIO',\n",
       " 'B',\n",
       " 'LSTAT',\n",
       " 'CRIM^2',\n",
       " 'CRIM ZN',\n",
       " 'CRIM INDUS',\n",
       " 'CRIM CHAS',\n",
       " 'CRIM NOX',\n",
       " 'CRIM RM',\n",
       " 'CRIM AGE',\n",
       " 'CRIM DIS',\n",
       " 'CRIM RAD',\n",
       " 'CRIM TAX',\n",
       " 'CRIM PTRATIO',\n",
       " 'CRIM B',\n",
       " 'CRIM LSTAT',\n",
       " 'ZN^2',\n",
       " 'ZN INDUS',\n",
       " 'ZN CHAS',\n",
       " 'ZN NOX',\n",
       " 'ZN RM',\n",
       " 'ZN AGE',\n",
       " 'ZN DIS',\n",
       " 'ZN RAD',\n",
       " 'ZN TAX',\n",
       " 'ZN PTRATIO',\n",
       " 'ZN B',\n",
       " 'ZN LSTAT',\n",
       " 'INDUS^2',\n",
       " 'INDUS CHAS',\n",
       " 'INDUS NOX',\n",
       " 'INDUS RM',\n",
       " 'INDUS AGE',\n",
       " 'INDUS DIS',\n",
       " 'INDUS RAD',\n",
       " 'INDUS TAX',\n",
       " 'INDUS PTRATIO',\n",
       " 'INDUS B',\n",
       " 'INDUS LSTAT',\n",
       " 'CHAS^2',\n",
       " 'CHAS NOX',\n",
       " 'CHAS RM',\n",
       " 'CHAS AGE',\n",
       " 'CHAS DIS',\n",
       " 'CHAS RAD',\n",
       " 'CHAS TAX',\n",
       " 'CHAS PTRATIO',\n",
       " 'CHAS B',\n",
       " 'CHAS LSTAT',\n",
       " 'NOX^2',\n",
       " 'NOX RM',\n",
       " 'NOX AGE',\n",
       " 'NOX DIS',\n",
       " 'NOX RAD',\n",
       " 'NOX TAX',\n",
       " 'NOX PTRATIO',\n",
       " 'NOX B',\n",
       " 'NOX LSTAT',\n",
       " 'RM^2',\n",
       " 'RM AGE',\n",
       " 'RM DIS',\n",
       " 'RM RAD',\n",
       " 'RM TAX',\n",
       " 'RM PTRATIO',\n",
       " 'RM B',\n",
       " 'RM LSTAT',\n",
       " 'AGE^2',\n",
       " 'AGE DIS',\n",
       " 'AGE RAD',\n",
       " 'AGE TAX',\n",
       " 'AGE PTRATIO',\n",
       " 'AGE B',\n",
       " 'AGE LSTAT',\n",
       " 'DIS^2',\n",
       " 'DIS RAD',\n",
       " 'DIS TAX',\n",
       " 'DIS PTRATIO',\n",
       " 'DIS B',\n",
       " 'DIS LSTAT',\n",
       " 'RAD^2',\n",
       " 'RAD TAX',\n",
       " 'RAD PTRATIO',\n",
       " 'RAD B',\n",
       " 'RAD LSTAT',\n",
       " 'TAX^2',\n",
       " 'TAX PTRATIO',\n",
       " 'TAX B',\n",
       " 'TAX LSTAT',\n",
       " 'PTRATIO^2',\n",
       " 'PTRATIO B',\n",
       " 'PTRATIO LSTAT',\n",
       " 'B^2',\n",
       " 'B LSTAT',\n",
       " 'LSTAT^2']"
      ]
     },
     "execution_count": 11,
     "metadata": {},
     "output_type": "execute_result"
    }
   ],
   "source": [
    "polynomial_feature_names"
   ]
  },
  {
   "cell_type": "code",
   "execution_count": 12,
   "metadata": {},
   "outputs": [
    {
     "data": {
      "text/html": [
       "<div>\n",
       "<style scoped>\n",
       "    .dataframe tbody tr th:only-of-type {\n",
       "        vertical-align: middle;\n",
       "    }\n",
       "\n",
       "    .dataframe tbody tr th {\n",
       "        vertical-align: top;\n",
       "    }\n",
       "\n",
       "    .dataframe thead th {\n",
       "        text-align: right;\n",
       "    }\n",
       "</style>\n",
       "<table border=\"1\" class=\"dataframe\">\n",
       "  <thead>\n",
       "    <tr style=\"text-align: right;\">\n",
       "      <th></th>\n",
       "      <th>1</th>\n",
       "      <th>CRIM</th>\n",
       "      <th>ZN</th>\n",
       "      <th>INDUS</th>\n",
       "      <th>CHAS</th>\n",
       "      <th>NOX</th>\n",
       "      <th>RM</th>\n",
       "      <th>AGE</th>\n",
       "      <th>DIS</th>\n",
       "      <th>RAD</th>\n",
       "      <th>...</th>\n",
       "      <th>TAX^2</th>\n",
       "      <th>TAX PTRATIO</th>\n",
       "      <th>TAX B</th>\n",
       "      <th>TAX LSTAT</th>\n",
       "      <th>PTRATIO^2</th>\n",
       "      <th>PTRATIO B</th>\n",
       "      <th>PTRATIO LSTAT</th>\n",
       "      <th>B^2</th>\n",
       "      <th>B LSTAT</th>\n",
       "      <th>LSTAT^2</th>\n",
       "    </tr>\n",
       "  </thead>\n",
       "  <tbody>\n",
       "    <tr>\n",
       "      <th>0</th>\n",
       "      <td>1.0</td>\n",
       "      <td>0.00632</td>\n",
       "      <td>18.0</td>\n",
       "      <td>2.31</td>\n",
       "      <td>0.0</td>\n",
       "      <td>0.538</td>\n",
       "      <td>6.575</td>\n",
       "      <td>65.2</td>\n",
       "      <td>4.0900</td>\n",
       "      <td>1.0</td>\n",
       "      <td>...</td>\n",
       "      <td>87616.0</td>\n",
       "      <td>4528.8</td>\n",
       "      <td>117482.40</td>\n",
       "      <td>1474.08</td>\n",
       "      <td>234.09</td>\n",
       "      <td>6072.570</td>\n",
       "      <td>76.194</td>\n",
       "      <td>157529.6100</td>\n",
       "      <td>1976.5620</td>\n",
       "      <td>24.8004</td>\n",
       "    </tr>\n",
       "    <tr>\n",
       "      <th>1</th>\n",
       "      <td>1.0</td>\n",
       "      <td>0.02731</td>\n",
       "      <td>0.0</td>\n",
       "      <td>7.07</td>\n",
       "      <td>0.0</td>\n",
       "      <td>0.469</td>\n",
       "      <td>6.421</td>\n",
       "      <td>78.9</td>\n",
       "      <td>4.9671</td>\n",
       "      <td>2.0</td>\n",
       "      <td>...</td>\n",
       "      <td>58564.0</td>\n",
       "      <td>4307.6</td>\n",
       "      <td>96049.80</td>\n",
       "      <td>2211.88</td>\n",
       "      <td>316.84</td>\n",
       "      <td>7064.820</td>\n",
       "      <td>162.692</td>\n",
       "      <td>157529.6100</td>\n",
       "      <td>3627.6660</td>\n",
       "      <td>83.5396</td>\n",
       "    </tr>\n",
       "    <tr>\n",
       "      <th>2</th>\n",
       "      <td>1.0</td>\n",
       "      <td>0.02729</td>\n",
       "      <td>0.0</td>\n",
       "      <td>7.07</td>\n",
       "      <td>0.0</td>\n",
       "      <td>0.469</td>\n",
       "      <td>7.185</td>\n",
       "      <td>61.1</td>\n",
       "      <td>4.9671</td>\n",
       "      <td>2.0</td>\n",
       "      <td>...</td>\n",
       "      <td>58564.0</td>\n",
       "      <td>4307.6</td>\n",
       "      <td>95064.86</td>\n",
       "      <td>975.26</td>\n",
       "      <td>316.84</td>\n",
       "      <td>6992.374</td>\n",
       "      <td>71.734</td>\n",
       "      <td>154315.4089</td>\n",
       "      <td>1583.1049</td>\n",
       "      <td>16.2409</td>\n",
       "    </tr>\n",
       "    <tr>\n",
       "      <th>3</th>\n",
       "      <td>1.0</td>\n",
       "      <td>0.03237</td>\n",
       "      <td>0.0</td>\n",
       "      <td>2.18</td>\n",
       "      <td>0.0</td>\n",
       "      <td>0.458</td>\n",
       "      <td>6.998</td>\n",
       "      <td>45.8</td>\n",
       "      <td>6.0622</td>\n",
       "      <td>3.0</td>\n",
       "      <td>...</td>\n",
       "      <td>49284.0</td>\n",
       "      <td>4151.4</td>\n",
       "      <td>87607.86</td>\n",
       "      <td>652.68</td>\n",
       "      <td>349.69</td>\n",
       "      <td>7379.581</td>\n",
       "      <td>54.978</td>\n",
       "      <td>155732.8369</td>\n",
       "      <td>1160.2122</td>\n",
       "      <td>8.6436</td>\n",
       "    </tr>\n",
       "    <tr>\n",
       "      <th>4</th>\n",
       "      <td>1.0</td>\n",
       "      <td>0.06905</td>\n",
       "      <td>0.0</td>\n",
       "      <td>2.18</td>\n",
       "      <td>0.0</td>\n",
       "      <td>0.458</td>\n",
       "      <td>7.147</td>\n",
       "      <td>54.2</td>\n",
       "      <td>6.0622</td>\n",
       "      <td>3.0</td>\n",
       "      <td>...</td>\n",
       "      <td>49284.0</td>\n",
       "      <td>4151.4</td>\n",
       "      <td>88111.80</td>\n",
       "      <td>1183.26</td>\n",
       "      <td>349.69</td>\n",
       "      <td>7422.030</td>\n",
       "      <td>99.671</td>\n",
       "      <td>157529.6100</td>\n",
       "      <td>2115.4770</td>\n",
       "      <td>28.4089</td>\n",
       "    </tr>\n",
       "    <tr>\n",
       "      <th>...</th>\n",
       "      <td>...</td>\n",
       "      <td>...</td>\n",
       "      <td>...</td>\n",
       "      <td>...</td>\n",
       "      <td>...</td>\n",
       "      <td>...</td>\n",
       "      <td>...</td>\n",
       "      <td>...</td>\n",
       "      <td>...</td>\n",
       "      <td>...</td>\n",
       "      <td>...</td>\n",
       "      <td>...</td>\n",
       "      <td>...</td>\n",
       "      <td>...</td>\n",
       "      <td>...</td>\n",
       "      <td>...</td>\n",
       "      <td>...</td>\n",
       "      <td>...</td>\n",
       "      <td>...</td>\n",
       "      <td>...</td>\n",
       "      <td>...</td>\n",
       "    </tr>\n",
       "    <tr>\n",
       "      <th>501</th>\n",
       "      <td>1.0</td>\n",
       "      <td>0.06263</td>\n",
       "      <td>0.0</td>\n",
       "      <td>11.93</td>\n",
       "      <td>0.0</td>\n",
       "      <td>0.573</td>\n",
       "      <td>6.593</td>\n",
       "      <td>69.1</td>\n",
       "      <td>2.4786</td>\n",
       "      <td>1.0</td>\n",
       "      <td>...</td>\n",
       "      <td>74529.0</td>\n",
       "      <td>5733.0</td>\n",
       "      <td>107013.27</td>\n",
       "      <td>2639.91</td>\n",
       "      <td>441.00</td>\n",
       "      <td>8231.790</td>\n",
       "      <td>203.070</td>\n",
       "      <td>153656.1601</td>\n",
       "      <td>3790.5433</td>\n",
       "      <td>93.5089</td>\n",
       "    </tr>\n",
       "    <tr>\n",
       "      <th>502</th>\n",
       "      <td>1.0</td>\n",
       "      <td>0.04527</td>\n",
       "      <td>0.0</td>\n",
       "      <td>11.93</td>\n",
       "      <td>0.0</td>\n",
       "      <td>0.573</td>\n",
       "      <td>6.120</td>\n",
       "      <td>76.7</td>\n",
       "      <td>2.2875</td>\n",
       "      <td>1.0</td>\n",
       "      <td>...</td>\n",
       "      <td>74529.0</td>\n",
       "      <td>5733.0</td>\n",
       "      <td>108353.70</td>\n",
       "      <td>2478.84</td>\n",
       "      <td>441.00</td>\n",
       "      <td>8334.900</td>\n",
       "      <td>190.680</td>\n",
       "      <td>157529.6100</td>\n",
       "      <td>3603.8520</td>\n",
       "      <td>82.4464</td>\n",
       "    </tr>\n",
       "    <tr>\n",
       "      <th>503</th>\n",
       "      <td>1.0</td>\n",
       "      <td>0.06076</td>\n",
       "      <td>0.0</td>\n",
       "      <td>11.93</td>\n",
       "      <td>0.0</td>\n",
       "      <td>0.573</td>\n",
       "      <td>6.976</td>\n",
       "      <td>91.0</td>\n",
       "      <td>2.1675</td>\n",
       "      <td>1.0</td>\n",
       "      <td>...</td>\n",
       "      <td>74529.0</td>\n",
       "      <td>5733.0</td>\n",
       "      <td>108353.70</td>\n",
       "      <td>1539.72</td>\n",
       "      <td>441.00</td>\n",
       "      <td>8334.900</td>\n",
       "      <td>118.440</td>\n",
       "      <td>157529.6100</td>\n",
       "      <td>2238.5160</td>\n",
       "      <td>31.8096</td>\n",
       "    </tr>\n",
       "    <tr>\n",
       "      <th>504</th>\n",
       "      <td>1.0</td>\n",
       "      <td>0.10959</td>\n",
       "      <td>0.0</td>\n",
       "      <td>11.93</td>\n",
       "      <td>0.0</td>\n",
       "      <td>0.573</td>\n",
       "      <td>6.794</td>\n",
       "      <td>89.3</td>\n",
       "      <td>2.3889</td>\n",
       "      <td>1.0</td>\n",
       "      <td>...</td>\n",
       "      <td>74529.0</td>\n",
       "      <td>5733.0</td>\n",
       "      <td>107411.85</td>\n",
       "      <td>1769.04</td>\n",
       "      <td>441.00</td>\n",
       "      <td>8262.450</td>\n",
       "      <td>136.080</td>\n",
       "      <td>154802.9025</td>\n",
       "      <td>2549.5560</td>\n",
       "      <td>41.9904</td>\n",
       "    </tr>\n",
       "    <tr>\n",
       "      <th>505</th>\n",
       "      <td>1.0</td>\n",
       "      <td>0.04741</td>\n",
       "      <td>0.0</td>\n",
       "      <td>11.93</td>\n",
       "      <td>0.0</td>\n",
       "      <td>0.573</td>\n",
       "      <td>6.030</td>\n",
       "      <td>80.8</td>\n",
       "      <td>2.5050</td>\n",
       "      <td>1.0</td>\n",
       "      <td>...</td>\n",
       "      <td>74529.0</td>\n",
       "      <td>5733.0</td>\n",
       "      <td>108353.70</td>\n",
       "      <td>2151.24</td>\n",
       "      <td>441.00</td>\n",
       "      <td>8334.900</td>\n",
       "      <td>165.480</td>\n",
       "      <td>157529.6100</td>\n",
       "      <td>3127.5720</td>\n",
       "      <td>62.0944</td>\n",
       "    </tr>\n",
       "  </tbody>\n",
       "</table>\n",
       "<p>506 rows × 105 columns</p>\n",
       "</div>"
      ],
      "text/plain": [
       "       1     CRIM    ZN  INDUS  CHAS    NOX     RM   AGE     DIS  RAD  ...  \\\n",
       "0    1.0  0.00632  18.0   2.31   0.0  0.538  6.575  65.2  4.0900  1.0  ...   \n",
       "1    1.0  0.02731   0.0   7.07   0.0  0.469  6.421  78.9  4.9671  2.0  ...   \n",
       "2    1.0  0.02729   0.0   7.07   0.0  0.469  7.185  61.1  4.9671  2.0  ...   \n",
       "3    1.0  0.03237   0.0   2.18   0.0  0.458  6.998  45.8  6.0622  3.0  ...   \n",
       "4    1.0  0.06905   0.0   2.18   0.0  0.458  7.147  54.2  6.0622  3.0  ...   \n",
       "..   ...      ...   ...    ...   ...    ...    ...   ...     ...  ...  ...   \n",
       "501  1.0  0.06263   0.0  11.93   0.0  0.573  6.593  69.1  2.4786  1.0  ...   \n",
       "502  1.0  0.04527   0.0  11.93   0.0  0.573  6.120  76.7  2.2875  1.0  ...   \n",
       "503  1.0  0.06076   0.0  11.93   0.0  0.573  6.976  91.0  2.1675  1.0  ...   \n",
       "504  1.0  0.10959   0.0  11.93   0.0  0.573  6.794  89.3  2.3889  1.0  ...   \n",
       "505  1.0  0.04741   0.0  11.93   0.0  0.573  6.030  80.8  2.5050  1.0  ...   \n",
       "\n",
       "       TAX^2  TAX PTRATIO      TAX B  TAX LSTAT  PTRATIO^2  PTRATIO B  \\\n",
       "0    87616.0       4528.8  117482.40    1474.08     234.09   6072.570   \n",
       "1    58564.0       4307.6   96049.80    2211.88     316.84   7064.820   \n",
       "2    58564.0       4307.6   95064.86     975.26     316.84   6992.374   \n",
       "3    49284.0       4151.4   87607.86     652.68     349.69   7379.581   \n",
       "4    49284.0       4151.4   88111.80    1183.26     349.69   7422.030   \n",
       "..       ...          ...        ...        ...        ...        ...   \n",
       "501  74529.0       5733.0  107013.27    2639.91     441.00   8231.790   \n",
       "502  74529.0       5733.0  108353.70    2478.84     441.00   8334.900   \n",
       "503  74529.0       5733.0  108353.70    1539.72     441.00   8334.900   \n",
       "504  74529.0       5733.0  107411.85    1769.04     441.00   8262.450   \n",
       "505  74529.0       5733.0  108353.70    2151.24     441.00   8334.900   \n",
       "\n",
       "     PTRATIO LSTAT          B^2    B LSTAT  LSTAT^2  \n",
       "0           76.194  157529.6100  1976.5620  24.8004  \n",
       "1          162.692  157529.6100  3627.6660  83.5396  \n",
       "2           71.734  154315.4089  1583.1049  16.2409  \n",
       "3           54.978  155732.8369  1160.2122   8.6436  \n",
       "4           99.671  157529.6100  2115.4770  28.4089  \n",
       "..             ...          ...        ...      ...  \n",
       "501        203.070  153656.1601  3790.5433  93.5089  \n",
       "502        190.680  157529.6100  3603.8520  82.4464  \n",
       "503        118.440  157529.6100  2238.5160  31.8096  \n",
       "504        136.080  154802.9025  2549.5560  41.9904  \n",
       "505        165.480  157529.6100  3127.5720  62.0944  \n",
       "\n",
       "[506 rows x 105 columns]"
      ]
     },
     "execution_count": 12,
     "metadata": {},
     "output_type": "execute_result"
    }
   ],
   "source": [
    "X = pd.DataFrame(polynomial_data, columns = polynomial_feature_names)\n",
    "X"
   ]
  },
  {
   "cell_type": "code",
   "execution_count": 13,
   "metadata": {},
   "outputs": [],
   "source": [
    "y = pd.DataFrame(boston_dataset.target, columns=['MEDV'])"
   ]
  },
  {
   "cell_type": "code",
   "execution_count": 14,
   "metadata": {},
   "outputs": [
    {
     "data": {
      "text/html": [
       "<div>\n",
       "<style scoped>\n",
       "    .dataframe tbody tr th:only-of-type {\n",
       "        vertical-align: middle;\n",
       "    }\n",
       "\n",
       "    .dataframe tbody tr th {\n",
       "        vertical-align: top;\n",
       "    }\n",
       "\n",
       "    .dataframe thead th {\n",
       "        text-align: right;\n",
       "    }\n",
       "</style>\n",
       "<table border=\"1\" class=\"dataframe\">\n",
       "  <thead>\n",
       "    <tr style=\"text-align: right;\">\n",
       "      <th></th>\n",
       "      <th>MEDV</th>\n",
       "    </tr>\n",
       "  </thead>\n",
       "  <tbody>\n",
       "    <tr>\n",
       "      <th>0</th>\n",
       "      <td>24.0</td>\n",
       "    </tr>\n",
       "    <tr>\n",
       "      <th>1</th>\n",
       "      <td>21.6</td>\n",
       "    </tr>\n",
       "    <tr>\n",
       "      <th>2</th>\n",
       "      <td>34.7</td>\n",
       "    </tr>\n",
       "    <tr>\n",
       "      <th>3</th>\n",
       "      <td>33.4</td>\n",
       "    </tr>\n",
       "    <tr>\n",
       "      <th>4</th>\n",
       "      <td>36.2</td>\n",
       "    </tr>\n",
       "    <tr>\n",
       "      <th>...</th>\n",
       "      <td>...</td>\n",
       "    </tr>\n",
       "    <tr>\n",
       "      <th>501</th>\n",
       "      <td>22.4</td>\n",
       "    </tr>\n",
       "    <tr>\n",
       "      <th>502</th>\n",
       "      <td>20.6</td>\n",
       "    </tr>\n",
       "    <tr>\n",
       "      <th>503</th>\n",
       "      <td>23.9</td>\n",
       "    </tr>\n",
       "    <tr>\n",
       "      <th>504</th>\n",
       "      <td>22.0</td>\n",
       "    </tr>\n",
       "    <tr>\n",
       "      <th>505</th>\n",
       "      <td>11.9</td>\n",
       "    </tr>\n",
       "  </tbody>\n",
       "</table>\n",
       "<p>506 rows × 1 columns</p>\n",
       "</div>"
      ],
      "text/plain": [
       "     MEDV\n",
       "0    24.0\n",
       "1    21.6\n",
       "2    34.7\n",
       "3    33.4\n",
       "4    36.2\n",
       "..    ...\n",
       "501  22.4\n",
       "502  20.6\n",
       "503  23.9\n",
       "504  22.0\n",
       "505  11.9\n",
       "\n",
       "[506 rows x 1 columns]"
      ]
     },
     "execution_count": 14,
     "metadata": {},
     "output_type": "execute_result"
    }
   ],
   "source": [
    "y"
   ]
  },
  {
   "cell_type": "code",
   "execution_count": 15,
   "metadata": {},
   "outputs": [],
   "source": [
    "X_train, X_test, Y_train, Y_test = train_test_split(X, y, test_size=0.2, random_state = 5)"
   ]
  },
  {
   "cell_type": "code",
   "execution_count": 16,
   "metadata": {},
   "outputs": [],
   "source": [
    "model = LinearRegression()"
   ]
  },
  {
   "cell_type": "code",
   "execution_count": 17,
   "metadata": {},
   "outputs": [
    {
     "data": {
      "text/plain": [
       "LinearRegression()"
      ]
     },
     "execution_count": 17,
     "metadata": {},
     "output_type": "execute_result"
    }
   ],
   "source": [
    "model.fit(X_train, Y_train)"
   ]
  },
  {
   "cell_type": "code",
   "execution_count": 18,
   "metadata": {},
   "outputs": [],
   "source": [
    "y_test_predict = model.predict(X_test)"
   ]
  },
  {
   "cell_type": "code",
   "execution_count": 19,
   "metadata": {},
   "outputs": [],
   "source": [
    "mes = mean_squared_error(Y_test, y_test_predict)**0.5"
   ]
  },
  {
   "cell_type": "code",
   "execution_count": 20,
   "metadata": {},
   "outputs": [
    {
     "data": {
      "text/plain": [
       "3.1965276514015977"
      ]
     },
     "execution_count": 20,
     "metadata": {},
     "output_type": "execute_result"
    }
   ],
   "source": [
    "mes"
   ]
  }
 ],
 "metadata": {
  "kernelspec": {
   "display_name": "Python 3",
   "language": "python",
   "name": "python3"
  },
  "language_info": {
   "codemirror_mode": {
    "name": "ipython",
    "version": 3
   },
   "file_extension": ".py",
   "mimetype": "text/x-python",
   "name": "python",
   "nbconvert_exporter": "python",
   "pygments_lexer": "ipython3",
   "version": "3.9.0"
  }
 },
 "nbformat": 4,
 "nbformat_minor": 4
}
